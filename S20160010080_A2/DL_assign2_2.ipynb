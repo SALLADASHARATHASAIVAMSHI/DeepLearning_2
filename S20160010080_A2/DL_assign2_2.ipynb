{
  "nbformat": 4,
  "nbformat_minor": 0,
  "metadata": {
    "colab": {
      "name": "DL_assign2_2.ipynb",
      "version": "0.3.2",
      "provenance": [],
      "collapsed_sections": []
    },
    "kernelspec": {
      "name": "python3",
      "display_name": "Python 3"
    },
    "accelerator": "GPU"
  },
  "cells": [
    {
      "metadata": {
        "id": "951tgSMckEZI",
        "colab_type": "code",
        "outputId": "4fdc2092-4bf9-4dbc-b4f2-8256d4e22989",
        "colab": {
          "base_uri": "https://localhost:8080/",
          "height": 120
        }
      },
      "cell_type": "code",
      "source": [
        "from google.colab import drive\n",
        "drive.mount(\"/content/drive\",force_remount=True)"
      ],
      "execution_count": 0,
      "outputs": [
        {
          "output_type": "stream",
          "text": [
            "Go to this URL in a browser: https://accounts.google.com/o/oauth2/auth?client_id=947318989803-6bn6qk8qdgf4n4g3pfee6491hc0brc4i.apps.googleusercontent.com&redirect_uri=urn%3Aietf%3Awg%3Aoauth%3A2.0%3Aoob&scope=email%20https%3A%2F%2Fwww.googleapis.com%2Fauth%2Fdocs.test%20https%3A%2F%2Fwww.googleapis.com%2Fauth%2Fdrive%20https%3A%2F%2Fwww.googleapis.com%2Fauth%2Fdrive.photos.readonly%20https%3A%2F%2Fwww.googleapis.com%2Fauth%2Fpeopleapi.readonly&response_type=code\n",
            "\n",
            "Enter your authorization code:\n",
            "··········\n",
            "Mounted at /content/drive\n"
          ],
          "name": "stdout"
        }
      ]
    },
    {
      "metadata": {
        "id": "pOs9O0lqdXkq",
        "colab_type": "code",
        "colab": {}
      },
      "cell_type": "code",
      "source": [
        "import argparse\n",
        "import os\n",
        "import numpy as np\n",
        "import math\n",
        "from glob import glob\n",
        "from PIL import Image\n",
        "from sklearn.model_selection import train_test_split\n",
        "import torchvision.transforms as transforms\n",
        "from torchvision.utils import save_image\n",
        "from torch.utils.data import TensorDataset, DataLoader, RandomSampler, SequentialSampler \n",
        "from torchvision import datasets\n",
        "from torch.autograd import Variable\n",
        "import torch.nn as nn\n",
        "import torch.nn.functional as F\n",
        "import torch"
      ],
      "execution_count": 0,
      "outputs": []
    },
    {
      "metadata": {
        "id": "llQ2dEmmiBWx",
        "colab_type": "code",
        "colab": {}
      },
      "cell_type": "code",
      "source": [
        "if not os.path.exists('./2nd_question'):\n",
        "    os.mkdir('./2nd_question')"
      ],
      "execution_count": 0,
      "outputs": []
    },
    {
      "metadata": {
        "id": "6vTgZBACiEDf",
        "colab_type": "code",
        "colab": {}
      },
      "cell_type": "code",
      "source": [
        "def Display(i):\n",
        "    i = 0.5 * (i + 1)\n",
        "    i = i.clamp(0, 1)\n",
        "    i = i.view(i.size(0), 3, 28, 28)\n",
        "    return i"
      ],
      "execution_count": 0,
      "outputs": []
    },
    {
      "metadata": {
        "id": "dF6jPrPsiJU_",
        "colab_type": "code",
        "colab": {}
      },
      "cell_type": "code",
      "source": [
        "def getParameters():\n",
        "  epochs = 300\n",
        "  batch_size = 128\n",
        "  learn_rate = 0.001  \n",
        "  return epochs,batch_size,learn_rate"
      ],
      "execution_count": 0,
      "outputs": []
    },
    {
      "metadata": {
        "id": "PV5U_ifNbWwZ",
        "colab_type": "code",
        "colab": {}
      },
      "cell_type": "code",
      "source": [
        "epochs,batch_size,learn_rate = getParameters()"
      ],
      "execution_count": 0,
      "outputs": []
    },
    {
      "metadata": {
        "id": "JvJunsmriMP_",
        "colab_type": "code",
        "colab": {}
      },
      "cell_type": "code",
      "source": [
        "class autoencoder(nn.Module):\n",
        "    def __init__(self):\n",
        "        super(autoencoder, self).__init__()\n",
        "        self.encodedOutput = None\n",
        "        self.encoder = nn.Sequential(\n",
        "            nn.Linear(2352, 128),\n",
        "            nn.ReLU(True),\n",
        "            nn.Linear(128, 100))\n",
        "        self.decoder = nn.Sequential(\n",
        "            nn.Linear(100, 128),\n",
        "            nn.ReLU(True), nn.Linear(128, 2352), nn.Tanh())\n",
        "\n",
        "    def forward(self, i):\n",
        "        i = self.encoder(i)\n",
        "        self.encodedOutput = i.detach().numpy()\n",
        "        i = self.decoder(i)\n",
        "        return i"
      ],
      "execution_count": 0,
      "outputs": []
    },
    {
      "metadata": {
        "id": "QMKcvV26iP1P",
        "colab_type": "code",
        "colab": {}
      },
      "cell_type": "code",
      "source": [
        "model = autoencoder()"
      ],
      "execution_count": 0,
      "outputs": []
    },
    {
      "metadata": {
        "id": "hs4Tvdqm_iqM",
        "colab_type": "code",
        "colab": {}
      },
      "cell_type": "code",
      "source": [
        "criterion = nn.MSELoss()"
      ],
      "execution_count": 0,
      "outputs": []
    },
    {
      "metadata": {
        "id": "TEAwuB33_i6Q",
        "colab_type": "code",
        "colab": {}
      },
      "cell_type": "code",
      "source": [
        "optimizer = torch.optim.Adam(model.parameters(), lr=learn_rate, weight_decay=0.0001)"
      ],
      "execution_count": 0,
      "outputs": []
    },
    {
      "metadata": {
        "id": "-mw5wj0UiS2f",
        "colab_type": "code",
        "colab": {}
      },
      "cell_type": "code",
      "source": [
        "root_dir = 'drive/My Drive/faces94'\n",
        "files = glob(f\"{root_dir}/**/**/*.jpg\")"
      ],
      "execution_count": 0,
      "outputs": []
    },
    {
      "metadata": {
        "id": "irSqq9qziVHf",
        "colab_type": "code",
        "colab": {}
      },
      "cell_type": "code",
      "source": [
        "vam = {\"female\": 0,\"male\":1,\"malestaff\": 2}"
      ],
      "execution_count": 0,
      "outputs": []
    },
    {
      "metadata": {
        "id": "d-gmALP9iXSX",
        "colab_type": "code",
        "colab": {}
      },
      "cell_type": "code",
      "source": [
        "transform_loader = transforms.Compose([\n",
        "    transforms.RandomResizedCrop((28, 28)),\n",
        "    transforms.RandomHorizontalFlip(),\n",
        "    transforms.RandomRotation(10),\n",
        "    transforms.ToTensor(),\n",
        "    transforms.Normalize([0.5],[0.5])\n",
        "])"
      ],
      "execution_count": 0,
      "outputs": []
    },
    {
      "metadata": {
        "id": "aC6UXhAI3ue9",
        "colab_type": "code",
        "colab": {}
      },
      "cell_type": "code",
      "source": [
        "All_Images = torch.stack([transform_loader(Image.open(i)) for i in files])\n",
        "All_Labels = torch.tensor([vam[i.split('/')[-3]] for i in files])"
      ],
      "execution_count": 0,
      "outputs": []
    },
    {
      "metadata": {
        "id": "TTmXYM4j3vGc",
        "colab_type": "code",
        "colab": {}
      },
      "cell_type": "code",
      "source": [
        "def getDataloaders(All_Images,All_Labels):\n",
        "  train_data, test_data = train_test_split(range(len(All_Images)), test_size=0.2, random_state=102)\n",
        "  train_images = All_Images[train_data]\n",
        "  train_label = All_Labels[train_data]\n",
        "  test_images = All_Images[test_data]\n",
        "  test_label = All_Labels[test_data]\n",
        "  train_data = TensorDataset(train_images, train_label)\n",
        "  test_data = TensorDataset(test_images, test_label)\n",
        "  sampleTrain = RandomSampler(train_data)\n",
        "  sampleTest = SequentialSampler(test_data)\n",
        "  trainDataLoader = DataLoader(train_data, sampler=sampleTrain, batch_size=1)\n",
        "  testDataLoader = DataLoader(test_data, sampler=sampleTest, batch_size=1)\n",
        "  \n",
        "  return trainDataLoader,testDataLoader"
      ],
      "execution_count": 0,
      "outputs": []
    },
    {
      "metadata": {
        "id": "4HMzOGdt3_Xb",
        "colab_type": "code",
        "colab": {}
      },
      "cell_type": "code",
      "source": [
        "trainDataLoader,testDataLoader=getDataloaders(All_Images,All_Labels)"
      ],
      "execution_count": 0,
      "outputs": []
    },
    {
      "metadata": {
        "id": "ye2KD9FN-7ok",
        "colab_type": "code",
        "colab": {}
      },
      "cell_type": "code",
      "source": [
        "def run_model(epochs,trainDataLoader,testDataLoader,optimizer,model):\n",
        "  for epoch in range(epochs):\n",
        "      for data in trainDataLoader:\n",
        "          image, _ = data\n",
        "          image = image.view(image.size(0), -1)\n",
        "          image = Variable(image)\n",
        "          output = model(image)\n",
        "          loss = criterion(output, image)\n",
        "          optimizer.zero_grad()\n",
        "          loss.backward()\n",
        "          optimizer.step()\n",
        "      print(\n",
        "                \"{ Epoch --> %d of %d}  { Loss --> %.4f }\"\n",
        "                % (epoch+1, epochs,loss.item())\n",
        "            )\n",
        "      if epoch % 10 == 0:\n",
        "          pic = Display(output.data)\n",
        "          save_image(pic, './2nd_question/image_{}.png'.format(epoch))\n"
      ],
      "execution_count": 0,
      "outputs": []
    },
    {
      "metadata": {
        "id": "ukzbkQon_SEm",
        "colab_type": "code",
        "outputId": "65695aa9-939f-4818-a3f0-de30bb3cb367",
        "colab": {
          "base_uri": "https://localhost:8080/",
          "height": 50
        }
      },
      "cell_type": "code",
      "source": [
        "run_model(epochs,trainDataLoader,testDataLoader,optimizer,model)"
      ],
      "execution_count": 0,
      "outputs": [
        {
          "output_type": "stream",
          "text": [
            "{ Epoch --> 1 of 2}  { Loss --> 0.1045 }\n",
            "{ Epoch --> 2 of 2}  { Loss --> 0.0354 }\n"
          ],
          "name": "stdout"
        }
      ]
    },
    {
      "metadata": {
        "id": "nKMXl56Mi2bI",
        "colab_type": "code",
        "colab": {}
      },
      "cell_type": "code",
      "source": [
        "model.eval()\n",
        "def getCsvFile(epochs,trainDataLoader,testDataLoader,optimizer,model):\n",
        "  for data in testDataLoader:\n",
        "      image, _ = data\n",
        "      image = image.view(image.size(0), -1)\n",
        "      image = Variable(image)\n",
        "      output = model(image)\n",
        "      print(model.encodedOutput)\n",
        "      print(model.encodedOutput.shape)\n",
        "      np.savetxt(\"output1.csv\", model.encodedOutput, delimiter=\",\")\n",
        "      break"
      ],
      "execution_count": 0,
      "outputs": []
    },
    {
      "metadata": {
        "id": "JAa3sPlSi5rA",
        "colab_type": "code",
        "outputId": "7fd5d9a8-19a7-430f-aed9-c1bde0e9ba4f",
        "colab": {
          "base_uri": "https://localhost:8080/",
          "height": 452
        }
      },
      "cell_type": "code",
      "source": [
        "getCsvFile(epochs,trainDataLoader,testDataLoader,optimizer,model)"
      ],
      "execution_count": 0,
      "outputs": [
        {
          "output_type": "stream",
          "text": [
            "[[-6.93641186e-01  1.70134115e+00  4.95633554e+00 -4.02711064e-01\n",
            "   4.25515294e-01 -1.30522001e+00 -8.36690366e-01  2.29952514e-01\n",
            "  -1.28079093e+00  4.56474675e-03  1.32276809e+00 -1.21076083e+00\n",
            "   2.62694669e+00  1.06806219e+00 -1.07411551e+00  4.35308695e-01\n",
            "   1.28463912e+00  3.75299072e+00  1.34669936e+00 -1.50669205e+00\n",
            "   4.28432405e-01  1.87507796e+00 -2.78146482e+00 -5.87898970e-01\n",
            "   3.90572691e+00  5.19764721e-01  1.46613669e+00 -4.33666766e-01\n",
            "  -5.98424435e-01 -1.07216251e+00  3.06974977e-01 -2.68230200e-01\n",
            "   1.53375959e+00  1.17892241e+00  2.13186443e-03 -9.71496344e-01\n",
            "   2.94820309e+00  4.20448571e-01  3.36573839e+00 -8.11377645e-01\n",
            "  -1.19745135e-01 -4.71483380e-01 -8.49280417e-01  2.79488039e+00\n",
            "   1.03305392e-01 -1.70848119e+00  1.07696664e+00  1.79874241e+00\n",
            "   4.87156820e+00 -9.09039140e-01  2.60342574e+00  4.85552728e-01\n",
            "  -1.83913380e-01 -1.91383314e+00  1.49460578e+00 -2.17123866e+00\n",
            "  -3.22212905e-01 -1.06152105e+00  5.55241287e-01 -6.09887064e-01\n",
            "  -2.85512877e+00 -4.12476063e+00 -2.16966383e-02  8.75700355e-01\n",
            "  -5.37511289e-01  8.85813951e-01 -1.73405752e-01 -6.48954153e-01\n",
            "  -1.41397089e-01 -1.55909848e+00  8.24169934e-01 -5.37965775e-01\n",
            "  -1.61196280e+00 -9.07524526e-01 -2.50351075e-02  2.44281816e+00\n",
            "   2.81147528e+00  2.01830554e+00  1.62048948e+00 -6.60674334e-01\n",
            "  -1.80960558e-02  4.59952533e-01  7.05094635e-01  8.64304245e-01\n",
            "  -2.78787971e+00  3.04902673e-01  1.58720398e+00 -1.06368685e+00\n",
            "   2.60228848e+00  2.68162012e+00 -2.99428016e-01  6.34540021e-02\n",
            "  -1.25239110e+00  1.54640377e-01  6.23572540e+00 -2.12527156e+00\n",
            "  -2.15001881e-01  1.02474555e-01  3.01456213e+00  1.05431354e+00]]\n",
            "(1, 100)\n"
          ],
          "name": "stdout"
        }
      ]
    },
    {
      "metadata": {
        "id": "Uli_zhZ7i_nQ",
        "colab_type": "code",
        "colab": {}
      },
      "cell_type": "code",
      "source": [
        ""
      ],
      "execution_count": 0,
      "outputs": []
    },
    {
      "metadata": {
        "id": "yWXDGE5fjDOw",
        "colab_type": "code",
        "colab": {}
      },
      "cell_type": "code",
      "source": [
        ""
      ],
      "execution_count": 0,
      "outputs": []
    },
    {
      "metadata": {
        "id": "wMiy1p85jGyo",
        "colab_type": "code",
        "colab": {}
      },
      "cell_type": "code",
      "source": [
        ""
      ],
      "execution_count": 0,
      "outputs": []
    },
    {
      "metadata": {
        "id": "B1YtEZrQjTU4",
        "colab_type": "code",
        "colab": {}
      },
      "cell_type": "code",
      "source": [
        ""
      ],
      "execution_count": 0,
      "outputs": []
    }
  ]
}